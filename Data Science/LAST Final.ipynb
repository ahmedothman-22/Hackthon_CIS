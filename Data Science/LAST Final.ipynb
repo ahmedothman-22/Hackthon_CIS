{
 "cells": [
  {
   "cell_type": "code",
   "execution_count": 1,
   "id": "a40db04f-067b-403e-a3b0-c27de10406ee",
   "metadata": {},
   "outputs": [
    {
     "data": {
      "text/html": [
       "<div>\n",
       "<style scoped>\n",
       "    .dataframe tbody tr th:only-of-type {\n",
       "        vertical-align: middle;\n",
       "    }\n",
       "\n",
       "    .dataframe tbody tr th {\n",
       "        vertical-align: top;\n",
       "    }\n",
       "\n",
       "    .dataframe thead th {\n",
       "        text-align: right;\n",
       "    }\n",
       "</style>\n",
       "<table border=\"1\" class=\"dataframe\">\n",
       "  <thead>\n",
       "    <tr style=\"text-align: right;\">\n",
       "      <th></th>\n",
       "      <th>type_of_food</th>\n",
       "      <th>number_of_guests</th>\n",
       "      <th>event_type</th>\n",
       "      <th>quantity_of_food</th>\n",
       "      <th>storage_conditions</th>\n",
       "      <th>purchase_history</th>\n",
       "      <th>seasonality</th>\n",
       "      <th>preparation_method</th>\n",
       "      <th>geographical_location</th>\n",
       "      <th>pricing</th>\n",
       "      <th>wastage_food_amount</th>\n",
       "    </tr>\n",
       "  </thead>\n",
       "  <tbody>\n",
       "    <tr>\n",
       "      <th>0</th>\n",
       "      <td>Meat</td>\n",
       "      <td>62</td>\n",
       "      <td>Wedding</td>\n",
       "      <td>300</td>\n",
       "      <td>Refrigerated</td>\n",
       "      <td>Regular</td>\n",
       "      <td>All Seasons</td>\n",
       "      <td>Plated</td>\n",
       "      <td>Upper Egypt</td>\n",
       "      <td>High</td>\n",
       "      <td>16</td>\n",
       "    </tr>\n",
       "    <tr>\n",
       "      <th>1</th>\n",
       "      <td>Bakery</td>\n",
       "      <td>266</td>\n",
       "      <td>Corporate</td>\n",
       "      <td>80</td>\n",
       "      <td>Refrigerated</td>\n",
       "      <td>Regular</td>\n",
       "      <td>Winter</td>\n",
       "      <td>Plated</td>\n",
       "      <td>Delta</td>\n",
       "      <td>Low</td>\n",
       "      <td>76</td>\n",
       "    </tr>\n",
       "    <tr>\n",
       "      <th>2</th>\n",
       "      <td>Vegetables</td>\n",
       "      <td>416</td>\n",
       "      <td>Festival</td>\n",
       "      <td>275</td>\n",
       "      <td>Room Temperature</td>\n",
       "      <td>Occasional</td>\n",
       "      <td>All Seasons</td>\n",
       "      <td>Buffet</td>\n",
       "      <td>Upper Egypt</td>\n",
       "      <td>Moderate</td>\n",
       "      <td>48</td>\n",
       "    </tr>\n",
       "    <tr>\n",
       "      <th>3</th>\n",
       "      <td>Fruits</td>\n",
       "      <td>129</td>\n",
       "      <td>Birthday</td>\n",
       "      <td>394</td>\n",
       "      <td>Refrigerated</td>\n",
       "      <td>Regular</td>\n",
       "      <td>Spring</td>\n",
       "      <td>Buffet</td>\n",
       "      <td>Alexandria</td>\n",
       "      <td>Moderate</td>\n",
       "      <td>82</td>\n",
       "    </tr>\n",
       "    <tr>\n",
       "      <th>4</th>\n",
       "      <td>Fruits</td>\n",
       "      <td>463</td>\n",
       "      <td>Corporate</td>\n",
       "      <td>520</td>\n",
       "      <td>Frozen</td>\n",
       "      <td>Regular</td>\n",
       "      <td>Spring</td>\n",
       "      <td>Buffet</td>\n",
       "      <td>Delta</td>\n",
       "      <td>Moderate</td>\n",
       "      <td>85</td>\n",
       "    </tr>\n",
       "  </tbody>\n",
       "</table>\n",
       "</div>"
      ],
      "text/plain": [
       "  type_of_food  number_of_guests event_type  quantity_of_food  \\\n",
       "0         Meat                62    Wedding               300   \n",
       "1       Bakery               266  Corporate                80   \n",
       "2   Vegetables               416   Festival               275   \n",
       "3       Fruits               129   Birthday               394   \n",
       "4       Fruits               463  Corporate               520   \n",
       "\n",
       "  storage_conditions purchase_history  seasonality preparation_method  \\\n",
       "0       Refrigerated          Regular  All Seasons             Plated   \n",
       "1       Refrigerated          Regular       Winter             Plated   \n",
       "2   Room Temperature       Occasional  All Seasons             Buffet   \n",
       "3       Refrigerated          Regular       Spring             Buffet   \n",
       "4             Frozen          Regular       Spring             Buffet   \n",
       "\n",
       "  geographical_location   pricing  wastage_food_amount  \n",
       "0           Upper Egypt      High                   16  \n",
       "1                 Delta       Low                   76  \n",
       "2           Upper Egypt  Moderate                   48  \n",
       "3            Alexandria  Moderate                   82  \n",
       "4                 Delta  Moderate                   85  "
      ]
     },
     "execution_count": 1,
     "metadata": {},
     "output_type": "execute_result"
    }
   ],
   "source": [
    "import pandas as pd\n",
    "import numpy as np\n",
    "from sklearn.model_selection import train_test_split\n",
    "from sklearn.preprocessing import StandardScaler, OneHotEncoder\n",
    "from sklearn.linear_model import LogisticRegression\n",
    "from sklearn.ensemble import RandomForestClassifier\n",
    "from sklearn.pipeline import Pipeline\n",
    "from sklearn.compose import ColumnTransformer\n",
    "from sklearn.impute import SimpleImputer\n",
    "from sklearn.metrics import classification_report, confusion_matrix, average_precision_score\n",
    "\n",
    "restaurant_df = pd.read_csv(r\"C:\\Users\\ahmed\\Desktop\\restaurants_3000.csv\")\n",
    "restaurant_df.head()"
   ]
  },
  {
   "cell_type": "code",
   "execution_count": 2,
   "id": "422fd93a-d932-4973-8470-c33e49dbae04",
   "metadata": {},
   "outputs": [],
   "source": [
    "restaurant_df[\"will_waste\"] = (restaurant_df[\"wastage_food_amount\"] / restaurant_df[\"quantity_of_food\"] > 0.25).astype(int)"
   ]
  },
  {
   "cell_type": "code",
   "execution_count": 3,
   "id": "35263e2c-64e3-4471-9168-9c6ce2269d86",
   "metadata": {},
   "outputs": [],
   "source": [
    "restaurant_df[\"per_guest_quantity\"] = (\n",
    "    restaurant_df[\"quantity_of_food\"] / restaurant_df[\"number_of_guests\"].replace(0, 1).astype(int)\n",
    ").astype(int)"
   ]
  },
  {
   "cell_type": "code",
   "execution_count": 4,
   "id": "064be91a-82a5-4040-af24-d6ebc4f8e0af",
   "metadata": {},
   "outputs": [],
   "source": [
    "perish_map = {\n",
    "    \"Meat\": 2,      \n",
    "    \"Fruits\": 2,     \n",
    "    \"Dairy\": 2,    \n",
    "    \"Bakery\": 1,    \n",
    "    \"Vegetables\": 1 \n",
    "}\n",
    "restaurant_df[\"perishability_score\"] = restaurant_df[\"type_of_food\"].map(perish_map).fillna(2)\n",
    "\n",
    "restaurant_df[\"is_buffet\"] = restaurant_df[\"preparation_method\"].str.contains(\"Buffet\", case=False, na=False).astype(int)\n",
    "restaurant_df[\"cold_chain_flag\"] = restaurant_df[\"storage_conditions\"].str.contains(\"Frozen|Refrigerated\", case=False, na=False).astype(int)"
   ]
  },
  {
   "cell_type": "code",
   "execution_count": 5,
   "id": "b05d47d9-50c7-4861-a2f2-b8073749a7f7",
   "metadata": {},
   "outputs": [],
   "source": [
    "restaurant_df.drop(\n",
    "    [\"event_type\", \"storage_conditions\", \"seasonality\", \"pricing\",\n",
    "     \"preparation_method\", \"purchase_history\", \"quantity_of_food\", \"wastage_food_amount\",\"event_type\"], \n",
    "    axis=1, inplace=True\n",
    ")\n",
    "\n",
    "X = restaurant_df.drop(columns=[\"will_waste\"])\n",
    "y = restaurant_df[\"will_waste\"]\n",
    "\n",
    "X_train, X_test, y_train, y_test = train_test_split(\n",
    "    X, y, test_size=0.2, random_state=42, stratify=y\n",
    ")\n",
    "\n",
    "\n",
    "num_cols = X.select_dtypes(include=[\"int64\", \"float64\"]).columns.tolist()\n",
    "cat_cols = X.select_dtypes(include=[\"object\"]).columns.tolist()\n",
    "\n",
    "\n",
    "numeric_transformer = Pipeline(steps=[\n",
    "    (\"imputer\", SimpleImputer(strategy=\"median\")),\n",
    "    (\"scaler\", StandardScaler())\n",
    "])\n",
    "\n",
    "categorical_transformer = Pipeline(steps=[\n",
    "    (\"imputer\", SimpleImputer(strategy=\"most_frequent\")),\n",
    "    (\"onehot\", OneHotEncoder(handle_unknown=\"ignore\"))\n",
    "])\n",
    "\n",
    "preprocessor = ColumnTransformer(\n",
    "    transformers=[\n",
    "        (\"num\", numeric_transformer, num_cols),\n",
    "        (\"cat\", categorical_transformer, cat_cols)\n",
    "    ]\n",
    ")"
   ]
  },
  {
   "cell_type": "code",
   "execution_count": 6,
   "id": "9650d6b9-d036-4ba4-9f6c-760703f4206c",
   "metadata": {},
   "outputs": [
    {
     "name": "stdout",
     "output_type": "stream",
     "text": [
      "Logistic Regression Report:\n",
      "              precision    recall  f1-score   support\n",
      "\n",
      "           0       0.79      0.90      0.84       419\n",
      "           1       0.66      0.43      0.52       181\n",
      "\n",
      "    accuracy                           0.76       600\n",
      "   macro avg       0.72      0.67      0.68       600\n",
      "weighted avg       0.75      0.76      0.74       600\n",
      "\n",
      "Confusion Matrix:\n",
      "[[378  41]\n",
      " [103  78]]\n"
     ]
    }
   ],
   "source": [
    "log_model = Pipeline(steps=[\n",
    "    (\"preprocess\", preprocessor),\n",
    "    (\"clf\", LogisticRegression(max_iter=1000))\n",
    "])\n",
    "\n",
    "log_model.fit(X_train, y_train)\n",
    "y_pred_log = log_model.predict(X_test)\n",
    "\n",
    "print(\"Logistic Regression Report:\")\n",
    "print(classification_report(y_test, y_pred_log))\n",
    "print(\"Confusion Matrix:\")\n",
    "print(confusion_matrix(y_test, y_pred_log))"
   ]
  },
  {
   "cell_type": "code",
   "execution_count": 7,
   "id": "bba5f643-f780-48fa-ba97-cf295f7f5f09",
   "metadata": {},
   "outputs": [
    {
     "name": "stdout",
     "output_type": "stream",
     "text": [
      "Random Forest Report:\n",
      "              precision    recall  f1-score   support\n",
      "\n",
      "           0       0.80      0.82      0.81       419\n",
      "           1       0.55      0.52      0.54       181\n",
      "\n",
      "    accuracy                           0.73       600\n",
      "   macro avg       0.68      0.67      0.67       600\n",
      "weighted avg       0.72      0.73      0.73       600\n",
      "\n",
      "Confusion Matrix:\n",
      "[[343  76]\n",
      " [ 87  94]]\n",
      "Average Precision (PR-AUC): 0.5403902072358792\n"
     ]
    }
   ],
   "source": [
    "rf_model = Pipeline(steps=[\n",
    "    (\"preprocess\", preprocessor),\n",
    "    (\"clf\", RandomForestClassifier(\n",
    "        n_estimators=200,\n",
    "        max_depth=20,\n",
    "        random_state=42,\n",
    "        class_weight=\"balanced\"\n",
    "    ))\n",
    "])\n",
    "\n",
    "rf_model.fit(X_train, y_train)\n",
    "y_pred_rf = rf_model.predict(X_test)\n",
    "y_prob_rf = rf_model.predict_proba(X_test)[:,1]\n",
    "\n",
    "print(\"Random Forest Report:\")\n",
    "print(classification_report(y_test, y_pred_rf))\n",
    "print(\"Confusion Matrix:\")\n",
    "print(confusion_matrix(y_test, y_pred_rf))\n",
    "print(\"Average Precision (PR-AUC):\", average_precision_score(y_test, y_prob_rf))"
   ]
  },
  {
   "cell_type": "code",
   "execution_count": 8,
   "id": "9765be21-1fae-432c-bd4a-fc4606170d63",
   "metadata": {},
   "outputs": [],
   "source": [
    "\n",
    "charities_df = pd.read_csv(r\"C:\\Users\\ahmed\\Desktop\\charities.csv\")\n",
    "waste_restaurants = restaurant_df[restaurant_df[\"will_waste\"] == 1]\n",
    "matches = []\n",
    "\n",
    "for idx, rest in waste_restaurants.iterrows():\n",
    "    candidate_charities = charities_df[charities_df[\"food_type\"] == rest[\"type_of_food\"]].copy()\n",
    "    if candidate_charities.empty:\n",
    "        continue\n",
    "\n",
    "    candidate_charities[\"score\"] = candidate_charities[\"location\"].apply(\n",
    "        lambda x: 1 if x == rest[\"geographical_location\"] else 0\n",
    "    )\n",
    "\n",
    "    best_charity = candidate_charities.sort_values(\"score\", ascending=False).iloc[0]\n",
    "    distribute_qty = min(rest.get(\"per_guest_quantity\", 0) * 10, best_charity.get(\"needed_quantity\", 0))  # تقدير الكمية المنطقية\n",
    "    \n",
    "    matches.append({\n",
    "        \"restaurant_id\": rest[\"geographical_location\"],\n",
    "        \"restaurant_food\": rest[\"type_of_food\"],\n",
    "        \"charity_name\": best_charity[\"NGO_name\"],\n",
    "        \"charity_location\": best_charity[\"location\"],\n",
    "        \"quantity_to_send\": distribute_qty,\n",
    "        \"contact\": best_charity[\"contact\"]\n",
    "    })\n",
    "\n",
    "# matches_df = pd.DataFrame(matches)\n",
    "# print(matches_df.head())"
   ]
  },
  {
   "cell_type": "code",
   "execution_count": 9,
   "id": "905c590a-285b-4f44-9f8f-d9b32a31a40f",
   "metadata": {},
   "outputs": [
    {
     "data": {
      "text/html": [
       "<div>\n",
       "<style scoped>\n",
       "    .dataframe tbody tr th:only-of-type {\n",
       "        vertical-align: middle;\n",
       "    }\n",
       "\n",
       "    .dataframe tbody tr th {\n",
       "        vertical-align: top;\n",
       "    }\n",
       "\n",
       "    .dataframe thead th {\n",
       "        text-align: right;\n",
       "    }\n",
       "</style>\n",
       "<table border=\"1\" class=\"dataframe\">\n",
       "  <thead>\n",
       "    <tr style=\"text-align: right;\">\n",
       "      <th></th>\n",
       "      <th>number_of_guests</th>\n",
       "      <th>type_of_food</th>\n",
       "      <th>per_guest_quantity</th>\n",
       "      <th>perishability_score</th>\n",
       "      <th>is_buffet</th>\n",
       "      <th>cold_chain_flag</th>\n",
       "      <th>geographical_location</th>\n",
       "    </tr>\n",
       "  </thead>\n",
       "  <tbody>\n",
       "    <tr>\n",
       "      <th>0</th>\n",
       "      <td>50</td>\n",
       "      <td>Meat</td>\n",
       "      <td>1</td>\n",
       "      <td>2</td>\n",
       "      <td>1</td>\n",
       "      <td>1</td>\n",
       "      <td>Cairo</td>\n",
       "    </tr>\n",
       "  </tbody>\n",
       "</table>\n",
       "</div>"
      ],
      "text/plain": [
       "   number_of_guests type_of_food  per_guest_quantity  perishability_score  \\\n",
       "0                50         Meat                   1                    2   \n",
       "\n",
       "   is_buffet  cold_chain_flag geographical_location  \n",
       "0          1                1                 Cairo  "
      ]
     },
     "execution_count": 9,
     "metadata": {},
     "output_type": "execute_result"
    }
   ],
   "source": [
    "new_restaurant = pd.DataFrame([{\n",
    "    \"number_of_guests\": 50,\n",
    "    \"type_of_food\": \"Meat\",\n",
    "    \"per_guest_quantity\": 1,   \n",
    "    \"perishability_score\": 2,\n",
    "    \"is_buffet\": 1,\n",
    "    \"cold_chain_flag\": 1,\n",
    "    \"geographical_location\": \"Cairo\",\n",
    "}])\n",
    "\n",
    "new_restaurant"
   ]
  },
  {
   "cell_type": "code",
   "execution_count": 10,
   "id": "5904c17c-fc6f-4d47-9112-5e3d32fa77c0",
   "metadata": {},
   "outputs": [
    {
     "name": "stdout",
     "output_type": "stream",
     "text": [
      "Predicted will_waste (0=no, 1=yes): 1\n",
      "Probability of wasting: 0.76\n"
     ]
    }
   ],
   "source": [
    "predicted_waste = rf_model.predict(new_restaurant)\n",
    "predicted_prob = rf_model.predict_proba(new_restaurant)[:,1]\n",
    "\n",
    "print(\"Predicted will_waste (0=no, 1=yes):\", predicted_waste[0])\n",
    "print(\"Probability of wasting:\", predicted_prob[0])\n"
   ]
  },
  {
   "cell_type": "code",
   "execution_count": 11,
   "id": "01768fe7-9dac-4236-83d8-495f7939dd88",
   "metadata": {},
   "outputs": [],
   "source": [
    "candidate_charities = charities_df[charities_df[\"food_type\"] == new_restaurant.loc[0, \"type_of_food\"]].copy()\n",
    "\n",
    "if not candidate_charities.empty:\n",
    "    candidate_charities[\"score\"] = candidate_charities[\"location\"].apply(\n",
    "        lambda x: 1 if x == new_restaurant.loc[0, \"geographical_location\"] else 0\n",
    "    )\n",
    "    best_charity = candidate_charities.sort_values(\"score\", ascending=False).iloc[0]\n",
    "    distribute_qty = min(new_restaurant.loc[0, \"per_guest_quantity\"] * new_restaurant.loc[0, \"number_of_guests\"],\n",
    "                         best_charity.get(\"needed_quantity\", 0))\n",
    "\n",
    "    match = {\n",
    "        \"restaurant_food\": new_restaurant.loc[0, \"type_of_food\"],\n",
    "        \"charity_name\": best_charity[\"NGO_name\"],\n",
    "        \"charity_location\": best_charity[\"location\"],\n",
    "        \"quantity_to_send\": distribute_qty,\n",
    "        \"contact\": best_charity[\"contact\"]\n",
    "    }"
   ]
  },
  {
   "cell_type": "code",
   "execution_count": 12,
   "id": "116ab4f3-6be3-45b2-b44e-07ce824bca4d",
   "metadata": {},
   "outputs": [
    {
     "data": {
      "text/plain": [
       "{'restaurant_food': 'Meat',\n",
       " 'charity_name': 'Charity_722',\n",
       " 'charity_location': 'Cairo',\n",
       " 'quantity_to_send': np.int64(50),\n",
       " 'contact': '+20-1589620796'}"
      ]
     },
     "execution_count": 12,
     "metadata": {},
     "output_type": "execute_result"
    }
   ],
   "source": [
    "match"
   ]
  },
  {
   "cell_type": "code",
   "execution_count": 13,
   "id": "5bd085a6-b977-4773-9bd7-fabd2ac1eaa5",
   "metadata": {},
   "outputs": [],
   "source": [
    "import joblib\n",
    "\n",
    "joblib.dump(rf_model, \"rf_waste_model.pkl\")\n",
    "loaded_model = joblib.load(\"rf_waste_model.pkl\")\n"
   ]
  },
  {
   "cell_type": "code",
   "execution_count": null,
   "id": "9b0bdcba",
   "metadata": {},
   "outputs": [],
   "source": []
  }
 ],
 "metadata": {
  "kernelspec": {
   "display_name": "Python 3",
   "language": "python",
   "name": "python3"
  },
  "language_info": {
   "codemirror_mode": {
    "name": "ipython",
    "version": 3
   },
   "file_extension": ".py",
   "mimetype": "text/x-python",
   "name": "python",
   "nbconvert_exporter": "python",
   "pygments_lexer": "ipython3",
   "version": "3.12.4"
  }
 },
 "nbformat": 4,
 "nbformat_minor": 5
}
